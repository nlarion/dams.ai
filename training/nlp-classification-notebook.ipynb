{
 "cells": [
  {
   "cell_type": "markdown",
   "metadata": {},
   "source": [
    "# Ad Classification Model using TensorFlow\n",
    "\n",
    "This notebook demonstrates how to:\n",
    "1. Load a vocabulary from a JSON file\n",
    "2. Create a custom tokenizer using the vocabulary\n",
    "3. Load a corpus from a JSON file\n",
    "4. Preprocess the text data\n",
    "5. Build and train a classification model using TensorFlow\n",
    "6. Save the model for use with TensorFlow.js"
   ]
  },
  {
   "cell_type": "markdown",
   "metadata": {},
   "source": [
    "## 1. Setup and Imports"
   ]
  },
  {
   "cell_type": "code",
   "execution_count": 1,
   "metadata": {},
   "outputs": [
    {
     "name": "stderr",
     "output_type": "stream",
     "text": [
      "2025-03-28 15:29:51.508814: E external/local_xla/xla/stream_executor/cuda/cuda_fft.cc:485] Unable to register cuFFT factory: Attempting to register factory for plugin cuFFT when one has already been registered\n",
      "2025-03-28 15:29:51.524274: E external/local_xla/xla/stream_executor/cuda/cuda_dnn.cc:8454] Unable to register cuDNN factory: Attempting to register factory for plugin cuDNN when one has already been registered\n",
      "2025-03-28 15:29:51.529421: E external/local_xla/xla/stream_executor/cuda/cuda_blas.cc:1452] Unable to register cuBLAS factory: Attempting to register factory for plugin cuBLAS when one has already been registered\n",
      "2025-03-28 15:29:51.540905: I tensorflow/core/platform/cpu_feature_guard.cc:210] This TensorFlow binary is optimized to use available CPU instructions in performance-critical operations.\n",
      "To enable the following instructions: AVX2 FMA, in other operations, rebuild TensorFlow with the appropriate compiler flags.\n",
      "2025-03-28 15:29:52.298522: W tensorflow/compiler/tf2tensorrt/utils/py_utils.cc:38] TF-TRT Warning: Could not find TensorRT\n"
     ]
    },
    {
     "name": "stdout",
     "output_type": "stream",
     "text": [
      "TensorFlow version: 2.17.0\n"
     ]
    }
   ],
   "source": [
    "import numpy as np\n",
    "import tensorflow as tf\n",
    "from tensorflow import keras\n",
    "from tensorflow.keras import layers\n",
    "import json\n",
    "import os\n",
    "import re\n",
    "import string\n",
    "import pandas as pd\n",
    "import matplotlib.pyplot as plt\n",
    "from sklearn.model_selection import train_test_split\n",
    "from sklearn.metrics import classification_report, confusion_matrix\n",
    "\n",
    "print(\"TensorFlow version:\", tf.__version__)"
   ]
  },
  {
   "cell_type": "markdown",
   "metadata": {},
   "source": [
    "## 2. Custom Tokenizer with JSON Vocabulary"
   ]
  },
  {
   "cell_type": "code",
   "execution_count": 2,
   "metadata": {},
   "outputs": [],
   "source": [
    "class CustomTokenizer:\n",
    "    def __init__(self, vocab_file=None):\n",
    "        self.word_index = {}\n",
    "        self.index_word = {}\n",
    "        self.num_words = 0\n",
    "        self.oov_token = '<OOV>'  # Out of vocabulary token\n",
    "        self.pad_token = '<PAD>'\n",
    "        \n",
    "        # If vocab file is provided, load it\n",
    "        if vocab_file:\n",
    "            self.load_vocabulary(vocab_file)\n",
    "        else:\n",
    "            # Initialize with special tokens\n",
    "            self.word_index = {self.pad_token: 0, self.oov_token: 1}\n",
    "            self.index_word = {0: self.pad_token, 1: self.oov_token}\n",
    "            self.num_words = 2\n",
    "    \n",
    "\n",
    "    def load_vocabulary(self, vocab_file):\n",
    "        \"\"\"Load vocabulary from a JSON file\"\"\"\n",
    "        with open(vocab_file, 'r') as f:\n",
    "            vocab_data = json.load(f)\n",
    "        \n",
    "        # Reset current vocabulary\n",
    "        self.word_index = {}\n",
    "        \n",
    "        # Handle the structured format with 'tokens' array\n",
    "        if isinstance(vocab_data, dict) and 'tokens' in vocab_data:\n",
    "            # Process tokens array - each item is a [token, index] pair\n",
    "            for token_pair in vocab_data['tokens']:\n",
    "                if len(token_pair) == 2:\n",
    "                    token, index = token_pair\n",
    "                    # Store token->index mapping (ensure index is integer)\n",
    "                    self.word_index[token] = int(index)\n",
    "            \n",
    "            # Process options if available\n",
    "            if 'options' in vocab_data:\n",
    "                options = vocab_data['options']\n",
    "                # Set case sensitivity\n",
    "                self.case_sensitive = options.get('caseSensitive', False)\n",
    "                \n",
    "                # Get special tokens\n",
    "                special_tokens = options.get('specialTokens', [])\n",
    "                if len(special_tokens) >= 1:\n",
    "                    self.pad_token = special_tokens[0]\n",
    "                if len(special_tokens) >= 2:\n",
    "                    self.oov_token = special_tokens[1]\n",
    "                if len(special_tokens) >= 3:\n",
    "                    self.sos_token = special_tokens[2]\n",
    "                if len(special_tokens) >= 4:\n",
    "                    self.eos_token = special_tokens[3]\n",
    "            \n",
    "            # Check for punctuation tokens\n",
    "            punct_chars = set(string.punctuation)\n",
    "            self.preserve_punctuation = any(token in punct_chars for token in self.word_index)\n",
    "        \n",
    "        # Create reverse mapping (index->token)\n",
    "        self.index_word = {int(idx): token for token, idx in self.word_index.items()}\n",
    "        self.num_words = len(self.word_index)\n",
    "        \n",
    "        print(f\"Loaded vocabulary with {self.num_words} tokens\")\n",
    "        if self.preserve_punctuation:\n",
    "            print(\"Punctuation preservation enabled\")\n",
    "        return self.word_index\n",
    "        \n",
    "        print(f\"Loaded vocabulary with {self.num_words} words\")\n",
    "    \n",
    "    def fit_on_texts(self, texts):\n",
    "        \"\"\"Create vocabulary from texts\"\"\"\n",
    "        word_counts = {}\n",
    "        \n",
    "        # Count word frequencies\n",
    "        for text in texts:\n",
    "            for word in self._text_to_word_sequence(text):\n",
    "                if word in word_counts:\n",
    "                    word_counts[word] += 1\n",
    "                else:\n",
    "                    word_counts[word] = 1\n",
    "        \n",
    "        # Sort words by frequency (most common first)\n",
    "        sorted_words = sorted(word_counts.items(), key=lambda x: x[1], reverse=True)\n",
    "        \n",
    "        # Initialize with special tokens\n",
    "        self.word_index = {self.pad_token: 0, self.oov_token: 1}\n",
    "        \n",
    "        # Add words to vocabulary\n",
    "        for i, (word, _) in enumerate(sorted_words):\n",
    "            self.word_index[word] = i + 2  # +2 for special tokens\n",
    "        \n",
    "        # Create reverse mapping\n",
    "        self.index_word = {v: k for k, v in self.word_index.items()}\n",
    "        self.num_words = len(self.word_index)\n",
    "        \n",
    "        print(f\"Created vocabulary with {self.num_words} words\")\n",
    "    \n",
    "    def _text_to_word_sequence(self, text):\n",
    "        \"\"\"Convert text to lowercase and split into words\"\"\"\n",
    "        # Convert to lowercase\n",
    "        text = text.lower()\n",
    "        \n",
    "        # Remove punctuation\n",
    "        text = text.translate(str.maketrans('', '', string.punctuation))\n",
    "        \n",
    "        # Split into words\n",
    "        return text.split()\n",
    "    \n",
    "    def texts_to_sequences(self, texts):\n",
    "        \"\"\"Convert texts to sequences of word indices\"\"\"\n",
    "        sequences = []\n",
    "        \n",
    "        for text in texts:\n",
    "            words = self._text_to_word_sequence(text)\n",
    "            sequence = []\n",
    "            \n",
    "            for word in words:\n",
    "                # Use word index if in vocabulary, otherwise use OOV token\n",
    "                if word in self.word_index:\n",
    "                    sequence.append(self.word_index[word])\n",
    "                else:\n",
    "                    sequence.append(self.word_index[self.oov_token])\n",
    "            \n",
    "            sequences.append(sequence)\n",
    "        \n",
    "        return sequences\n",
    "    \n",
    "    def sequences_to_texts(self, sequences):\n",
    "        \"\"\"Convert sequences of word indices to texts\"\"\"\n",
    "        texts = []\n",
    "        \n",
    "        for sequence in sequences:\n",
    "            words = []\n",
    "            \n",
    "            for idx in sequence:\n",
    "                if idx in self.index_word:\n",
    "                    words.append(self.index_word[idx])\n",
    "                else:\n",
    "                    words.append(self.oov_token)\n",
    "            \n",
    "            texts.append(' '.join(words))\n",
    "        \n",
    "        return texts\n",
    "    \n",
    "    def save_vocabulary(self, filepath):\n",
    "        \"\"\"Save vocabulary to a JSON file\"\"\"\n",
    "        with open(filepath, 'w') as f:\n",
    "            json.dump(self.word_index, f)\n",
    "        \n",
    "        print(f\"Saved vocabulary to {filepath}\")"
   ]
  },
  {
   "cell_type": "markdown",
   "metadata": {},
   "source": [
    "## 3. Loading the Corpus from JSON"
   ]
  },
  {
   "cell_type": "code",
   "execution_count": 3,
   "metadata": {},
   "outputs": [],
   "source": [
    "def load_corpus(corpus_file):\n",
    "    \"\"\"Load corpus from a JSON file\"\"\"\n",
    "    with open(corpus_file, 'r') as f:\n",
    "        corpus_data = json.load(f)\n",
    "    \n",
    "    # Expected format: List of dictionaries with 'text' and 'label' keys\n",
    "    # Or a dictionary with 'texts' and 'labels' keys\n",
    "    \n",
    "    texts = []\n",
    "    labels = []\n",
    "    \n",
    "    if isinstance(corpus_data, list):\n",
    "        for item in corpus_data:\n",
    "            texts.append(item.get('text', ''))\n",
    "            labels.append(1 if item.get('label', '').lower() == 'ads' else 0)\n",
    "    elif isinstance(corpus_data, dict):\n",
    "        texts = corpus_data.get('texts', [])\n",
    "        raw_labels = corpus_data.get('labels', [])\n",
    "        labels = [1 if label.lower() == 'ads' else 0 for label in raw_labels]\n",
    "    \n",
    "    print(f\"Loaded corpus with {len(texts)} samples\")\n",
    "    print(f\"Label distribution: {sum(labels)} ads, {len(labels) - sum(labels)} not ads\")\n",
    "    \n",
    "    return texts, labels\n",
    "\n",
    "# For demonstration purposes, let's create a sample corpus if not available\n",
    "def create_sample_corpus(filepath, num_samples=1000):\n",
    "    \"\"\"Create a sample corpus for demonstration\"\"\"\n",
    "    if os.path.exists(filepath):\n",
    "        print(f\"Corpus file {filepath} already exists. Skipping creation.\")\n",
    "        return\n",
    "    \n",
    "    # Sample ad texts\n",
    "    ad_prefixes = [\n",
    "        \"Buy now\", \"Limited offer\", \"Discount\", \"Sale\", \"Free shipping\",\n",
    "        \"Best deal\", \"Don't miss\", \"Special price\", \"Act now\", \"New arrival\"\n",
    "    ]\n",
    "    \n",
    "    ad_products = [\n",
    "        \"shoes\", \"smartphone\", \"laptop\", \"clothes\", \"watch\",\n",
    "        \"headphones\", \"camera\", \"TV\", \"furniture\", \"kitchen appliances\"\n",
    "    ]\n",
    "    \n",
    "    ad_suffixes = [\n",
    "        \"at our store\", \"online\", \"with free delivery\", \"today only\",\n",
    "        \"while supplies last\", \"for a limited time\", \"with 50% off\",\n",
    "        \"and get a free gift\", \"before they're gone\", \"and save money\"\n",
    "    ]\n",
    "    \n",
    "    # Sample non-ad texts\n",
    "    non_ad_prefixes = [\n",
    "        \"I think\", \"Today I\", \"The weather is\", \"My friend\", \"Yesterday\",\n",
    "        \"The movie was\", \"I read\", \"Did you know\", \"I'm planning\", \"I heard\"\n",
    "    ]\n",
    "    \n",
    "    non_ad_topics = [\n",
    "        \"went to the park\", \"watched a movie\", \"read a book\", \"cooked dinner\",\n",
    "        \"visited my family\", \"learned something new\", \"had a great day\",\n",
    "        \"started a new hobby\", \"met an old friend\", \"worked on a project\"\n",
    "    ]\n",
    "    \n",
    "    non_ad_suffixes = [\n",
    "        \"and enjoyed it\", \"for the first time\", \"with my friends\", \"yesterday\",\n",
    "        \"last weekend\", \"after work\", \"during my vacation\", \"in the morning\",\n",
    "        \"before going to sleep\", \"and it was fun\"\n",
    "    ]\n",
    "    \n",
    "    corpus = []\n",
    "    \n",
    "    # Generate ad samples (roughly half)\n",
    "    for _ in range(num_samples // 2):\n",
    "        prefix = np.random.choice(ad_prefixes)\n",
    "        product = np.random.choice(ad_products)\n",
    "        suffix = np.random.choice(ad_suffixes)\n",
    "        text = f\"{prefix} {product} {suffix}\"\n",
    "        corpus.append({\"text\": text, \"label\": \"ads\"})\n",
    "    \n",
    "    # Generate non-ad samples\n",
    "    for _ in range(num_samples - len(corpus)):\n",
    "        prefix = np.random.choice(non_ad_prefixes)\n",
    "        topic = np.random.choice(non_ad_topics)\n",
    "        suffix = np.random.choice(non_ad_suffixes)\n",
    "        text = f\"{prefix} {topic} {suffix}\"\n",
    "        corpus.append({\"text\": text, \"label\": \"not ads\"})\n",
    "    \n",
    "    # Shuffle the corpus\n",
    "    np.random.shuffle(corpus)\n",
    "    \n",
    "    # Save to file\n",
    "    with open(filepath, 'w') as f:\n",
    "        json.dump(corpus, f)\n",
    "    \n",
    "    print(f\"Created sample corpus with {len(corpus)} items and saved to {filepath}\")\n",
    "\n",
    "# For demonstration purposes, let's create a sample vocabulary if not available\n",
    "def create_sample_vocabulary(filepath, corpus_texts):\n",
    "    \"\"\"Create a sample vocabulary for demonstration\"\"\"\n",
    "    if os.path.exists(filepath):\n",
    "        print(f\"Vocabulary file {filepath} already exists. Skipping creation.\")\n",
    "        return\n",
    "    \n",
    "    # Create a tokenizer and fit on texts\n",
    "    tokenizer = CustomTokenizer()\n",
    "    tokenizer.fit_on_texts(corpus_texts)\n",
    "    \n",
    "    # Save vocabulary\n",
    "    tokenizer.save_vocabulary(filepath)"
   ]
  },
  {
   "cell_type": "markdown",
   "metadata": {},
   "source": [
    "## 4. Data Preparation and Preprocessing"
   ]
  },
  {
   "cell_type": "code",
   "execution_count": 4,
   "metadata": {},
   "outputs": [
    {
     "name": "stdout",
     "output_type": "stream",
     "text": [
      "Corpus file sample_corpus2.json already exists. Skipping creation.\n",
      "Loaded corpus with 2134 samples\n",
      "Label distribution: 1803 ads, 331 not ads\n",
      "Vocabulary file sample_vocab2.json already exists. Skipping creation.\n",
      "Loaded vocabulary with 23529 tokens\n",
      "Punctuation preservation enabled\n"
     ]
    },
    {
     "data": {
      "image/png": "[encoded data removed]",
      "text/plain": [
       "<Figure size 640x480 with 1 Axes>"
      ]
     },
     "metadata": {},
     "output_type": "display_data"
    },
    {
     "name": "stdout",
     "output_type": "stream",
     "text": [
      "Using maximum sequence length of 50\n",
      "Training set: 1280 samples\n",
      "Validation set: 427 samples\n",
      "Test set: 427 samples\n"
     ]
    }
   ],
   "source": [
    "# Create sample files for demonstration\n",
    "sample_corpus_file = \"sample_corpus2.json\"\n",
    "sample_vocab_file = \"sample_vocab2.json\"\n",
    "\n",
    "create_sample_corpus(sample_corpus_file)\n",
    "\n",
    "# Load the corpus\n",
    "texts, labels = load_corpus(sample_corpus_file)\n",
    "\n",
    "# Create sample vocabulary file\n",
    "create_sample_vocabulary(sample_vocab_file, texts)\n",
    "\n",
    "# Load the vocabulary and create a tokenizer\n",
    "tokenizer = CustomTokenizer(sample_vocab_file)\n",
    "\n",
    "# Convert texts to sequences\n",
    "sequences = tokenizer.texts_to_sequences(texts)\n",
    "\n",
    "# Check sequence length distribution\n",
    "sequence_lengths = [len(seq) for seq in sequences]\n",
    "plt.hist(sequence_lengths, bins=20)\n",
    "plt.xlabel('Sequence Length')\n",
    "plt.ylabel('Frequency')\n",
    "plt.title('Distribution of Sequence Lengths')\n",
    "plt.show()\n",
    "\n",
    "# Determine maximum sequence length (padding/truncating)\n",
    "max_length = min(max(sequence_lengths), 50)  # Limit to 50 tokens max\n",
    "print(f\"Using maximum sequence length of {max_length}\")\n",
    "\n",
    "# Pad sequences\n",
    "padded_sequences = keras.preprocessing.sequence.pad_sequences(\n",
    "    sequences,\n",
    "    maxlen=max_length,\n",
    "    padding='post',\n",
    "    truncating='post',\n",
    "    value=tokenizer.word_index[tokenizer.pad_token]\n",
    ")\n",
    "\n",
    "# Convert labels to numpy array\n",
    "labels = np.array(labels)\n",
    "\n",
    "# Split data into train, validation, and test sets\n",
    "# First split into train+val and test\n",
    "X_train_val, X_test, y_train_val, y_test = train_test_split(\n",
    "    padded_sequences, labels, test_size=0.2, random_state=42\n",
    ")\n",
    "\n",
    "# Then split train+val into train and val\n",
    "X_train, X_val, y_train, y_val = train_test_split(\n",
    "    X_train_val, y_train_val, test_size=0.25, random_state=42  # 0.25 * 0.8 = 0.2 of total\n",
    ")\n",
    "\n",
    "print(f\"Training set: {len(X_train)} samples\")\n",
    "print(f\"Validation set: {len(X_val)} samples\")\n",
    "print(f\"Test set: {len(X_test)} samples\")"
   ]
  },
  {
   "cell_type": "markdown",
   "metadata": {},
   "source": [
    "## 5. Building the Model"
   ]
  },
  {
   "cell_type": "code",
   "execution_count": 5,
   "metadata": {},
   "outputs": [
    {
     "name": "stderr",
     "output_type": "stream",
     "text": [
      "/home/nlarion/Desktop/nlp_html_ads/nlp_html_env/lib/python3.10/site-packages/keras/src/layers/core/embedding.py:90: UserWarning: Argument `input_length` is deprecated. Just remove it.\n",
      "  warnings.warn(\n",
      "WARNING: All log messages before absl::InitializeLog() is called are written to STDERR\n",
      "I0000 00:00:1743201006.889371   47967 cuda_executor.cc:1015] successful NUMA node read from SysFS had negative value (-1), but there must be at least one NUMA node, so returning NUMA node zero. See more at https://github.com/torvalds/linux/blob/v6.0/Documentation/ABI/testing/sysfs-bus-pci#L344-L355\n",
      "I0000 00:00:1743201006.939146   47967 cuda_executor.cc:1015] successful NUMA node read from SysFS had negative value (-1), but there must be at least one NUMA node, so returning NUMA node zero. See more at https://github.com/torvalds/linux/blob/v6.0/Documentation/ABI/testing/sysfs-bus-pci#L344-L355\n",
      "I0000 00:00:1743201006.942464   47967 cuda_executor.cc:1015] successful NUMA node read from SysFS had negative value (-1), but there must be at least one NUMA node, so returning NUMA node zero. See more at https://github.com/torvalds/linux/blob/v6.0/Documentation/ABI/testing/sysfs-bus-pci#L344-L355\n",
      "I0000 00:00:1743201006.946334   47967 cuda_executor.cc:1015] successful NUMA node read from SysFS had negative value (-1), but there must be at least one NUMA node, so returning NUMA node zero. See more at https://github.com/torvalds/linux/blob/v6.0/Documentation/ABI/testing/sysfs-bus-pci#L344-L355\n",
      "I0000 00:00:1743201006.949872   47967 cuda_executor.cc:1015] successful NUMA node read from SysFS had negative value (-1), but there must be at least one NUMA node, so returning NUMA node zero. See more at https://github.com/torvalds/linux/blob/v6.0/Documentation/ABI/testing/sysfs-bus-pci#L344-L355\n",
      "I0000 00:00:1743201006.953044   47967 cuda_executor.cc:1015] successful NUMA node read from SysFS had negative value (-1), but there must be at least one NUMA node, so returning NUMA node zero. See more at https://github.com/torvalds/linux/blob/v6.0/Documentation/ABI/testing/sysfs-bus-pci#L344-L355\n",
      "I0000 00:00:1743201007.059417   47967 cuda_executor.cc:1015] successful NUMA node read from SysFS had negative value (-1), but there must be at least one NUMA node, so returning NUMA node zero. See more at https://github.com/torvalds/linux/blob/v6.0/Documentation/ABI/testing/sysfs-bus-pci#L344-L355\n",
      "I0000 00:00:1743201007.060948   47967 cuda_executor.cc:1015] successful NUMA node read from SysFS had negative value (-1), but there must be at least one NUMA node, so returning NUMA node zero. See more at https://github.com/torvalds/linux/blob/v6.0/Documentation/ABI/testing/sysfs-bus-pci#L344-L355\n",
      "I0000 00:00:1743201007.062283   47967 cuda_executor.cc:1015] successful NUMA node read from SysFS had negative value (-1), but there must be at least one NUMA node, so returning NUMA node zero. See more at https://github.com/torvalds/linux/blob/v6.0/Documentation/ABI/testing/sysfs-bus-pci#L344-L355\n",
      "2025-03-28 15:30:07.063572: I tensorflow/core/common_runtime/gpu/gpu_device.cc:2021] Created device /job:localhost/replica:0/task:0/device:GPU:0 with 22322 MB memory:  -> device: 0, name: NVIDIA GeForce RTX 3090, pci bus id: 0000:06:00.0, compute capability: 8.6\n"
     ]
    },
    {
     "data": {
      "text/html": [
       "<pre style=\"white-space:pre;overflow-x:auto;line-height:normal;font-family:Menlo,'DejaVu Sans Mono',consolas,'Courier New',monospace\"><span style=\"font-weight: bold\">Model: \"sequential\"</span>\n",
       "</pre>\n"
      ],
      "text/plain": [
       "\u001b[1mModel: \"sequential\"\u001b[0m\n"
      ]
     },
     "metadata": {},
     "output_type": "display_data"
    },
    {
     "data": {
      "text/html": [
       "<pre style=\"white-space:pre;overflow-x:auto;line-height:normal;font-family:Menlo,'DejaVu Sans Mono',consolas,'Courier New',monospace\">┏━━━━━━━━━━━━━━━━━━━━━━━━━━━━━━━━━┳━━━━━━━━━━━━━━━━━━━━━━━━┳━━━━━━━━━━━━━━━┓\n",
       "┃<span style=\"font-weight: bold\"> Layer (type)                    </span>┃<span style=\"font-weight: bold\"> Output Shape           </span>┃<span style=\"font-weight: bold\">       Param # </span>┃\n",
       "┡━━━━━━━━━━━━━━━━━━━━━━━━━━━━━━━━━╇━━━━━━━━━━━━━━━━━━━━━━━━╇━━━━━━━━━━━━━━━┩\n",
       "│ embedding (<span style=\"color: #0087ff; text-decoration-color: #0087ff\">Embedding</span>)           │ ?                      │   <span style=\"color: #00af00; text-decoration-color: #00af00\">0</span> (unbuilt) │\n",
       "├─────────────────────────────────┼────────────────────────┼───────────────┤\n",
       "│ global_average_pooling1d        │ ?                      │             <span style=\"color: #00af00; text-decoration-color: #00af00\">0</span> │\n",
       "│ (<span style=\"color: #0087ff; text-decoration-color: #0087ff\">GlobalAveragePooling1D</span>)        │                        │               │\n",
       "├─────────────────────────────────┼────────────────────────┼───────────────┤\n",
       "│ dense (<span style=\"color: #0087ff; text-decoration-color: #0087ff\">Dense</span>)                   │ ?                      │   <span style=\"color: #00af00; text-decoration-color: #00af00\">0</span> (unbuilt) │\n",
       "├─────────────────────────────────┼────────────────────────┼───────────────┤\n",
       "│ dropout (<span style=\"color: #0087ff; text-decoration-color: #0087ff\">Dropout</span>)               │ ?                      │             <span style=\"color: #00af00; text-decoration-color: #00af00\">0</span> │\n",
       "├─────────────────────────────────┼────────────────────────┼───────────────┤\n",
       "│ dense_1 (<span style=\"color: #0087ff; text-decoration-color: #0087ff\">Dense</span>)                 │ ?                      │   <span style=\"color: #00af00; text-decoration-color: #00af00\">0</span> (unbuilt) │\n",
       "└─────────────────────────────────┴────────────────────────┴───────────────┘\n",
       "</pre>\n"
      ],
      "text/plain": [
       "┏━━━━━━━━━━━━━━━━━━━━━━━━━━━━━━━━━┳━━━━━━━━━━━━━━━━━━━━━━━━┳━━━━━━━━━━━━━━━┓\n",
       "┃\u001b[1m \u001b[0m\u001b[1mLayer (type)                   \u001b[0m\u001b[1m \u001b[0m┃\u001b[1m \u001b[0m\u001b[1mOutput Shape          \u001b[0m\u001b[1m \u001b[0m┃\u001b[1m \u001b[0m\u001b[1m      Param #\u001b[0m\u001b[1m \u001b[0m┃\n",
       "┡━━━━━━━━━━━━━━━━━━━━━━━━━━━━━━━━━╇━━━━━━━━━━━━━━━━━━━━━━━━╇━━━━━━━━━━━━━━━┩\n",
       "│ embedding (\u001b[38;5;33mEmbedding\u001b[0m)           │ ?                      │   \u001b[38;5;34m0\u001b[0m (unbuilt) │\n",
       "├─────────────────────────────────┼────────────────────────┼───────────────┤\n",
       "│ global_average_pooling1d        │ ?                      │             \u001b[38;5;34m0\u001b[0m │\n",
       "│ (\u001b[38;5;33mGlobalAveragePooling1D\u001b[0m)        │                        │               │\n",
       "├─────────────────────────────────┼────────────────────────┼───────────────┤\n",
       "│ dense (\u001b[38;5;33mDense\u001b[0m)                   │ ?                      │   \u001b[38;5;34m0\u001b[0m (unbuilt) │\n",
       "├─────────────────────────────────┼────────────────────────┼───────────────┤\n",
       "│ dropout (\u001b[38;5;33mDropout\u001b[0m)               │ ?                      │             \u001b[38;5;34m0\u001b[0m │\n",
       "├─────────────────────────────────┼────────────────────────┼───────────────┤\n",
       "│ dense_1 (\u001b[38;5;33mDense\u001b[0m)                 │ ?                      │   \u001b[38;5;34m0\u001b[0m (unbuilt) │\n",
       "└─────────────────────────────────┴────────────────────────┴───────────────┘\n"
      ]
     },
     "metadata": {},
     "output_type": "display_data"
    },
    {
     "data": {
      "text/html": [
       "<pre style=\"white-space:pre;overflow-x:auto;line-height:normal;font-family:Menlo,'DejaVu Sans Mono',consolas,'Courier New',monospace\"><span style=\"font-weight: bold\"> Total params: </span><span style=\"color: #00af00; text-decoration-color: #00af00\">0</span> (0.00 B)\n",
       "</pre>\n"
      ],
      "text/plain": [
       "\u001b[1m Total params: \u001b[0m\u001b[38;5;34m0\u001b[0m (0.00 B)\n"
      ]
     },
     "metadata": {},
     "output_type": "display_data"
    },
    {
     "data": {
      "text/html": [
       "<pre style=\"white-space:pre;overflow-x:auto;line-height:normal;font-family:Menlo,'DejaVu Sans Mono',consolas,'Courier New',monospace\"><span style=\"font-weight: bold\"> Trainable params: </span><span style=\"color: #00af00; text-decoration-color: #00af00\">0</span> (0.00 B)\n",
       "</pre>\n"
      ],
      "text/plain": [
       "\u001b[1m Trainable params: \u001b[0m\u001b[38;5;34m0\u001b[0m (0.00 B)\n"
      ]
     },
     "metadata": {},
     "output_type": "display_data"
    },
    {
     "data": {
      "text/html": [
       "<pre style=\"white-space:pre;overflow-x:auto;line-height:normal;font-family:Menlo,'DejaVu Sans Mono',consolas,'Courier New',monospace\"><span style=\"font-weight: bold\"> Non-trainable params: </span><span style=\"color: #00af00; text-decoration-color: #00af00\">0</span> (0.00 B)\n",
       "</pre>\n"
      ],
      "text/plain": [
       "\u001b[1m Non-trainable params: \u001b[0m\u001b[38;5;34m0\u001b[0m (0.00 B)\n"
      ]
     },
     "metadata": {},
     "output_type": "display_data"
    }
   ],
   "source": [
    "def build_model(vocab_size, embedding_dim=16, max_length=50):\n",
    "    \"\"\"Build a text classification model\"\"\"\n",
    "    model = keras.Sequential([\n",
    "        layers.Embedding(vocab_size, embedding_dim, input_length=max_length),\n",
    "        layers.GlobalAveragePooling1D(),\n",
    "        layers.Dense(16, activation='relu'),\n",
    "        layers.Dropout(0.5),\n",
    "        layers.Dense(1, activation='sigmoid')\n",
    "    ])\n",
    "    \n",
    "    model.compile(\n",
    "        optimizer='adam',\n",
    "        loss='binary_crossentropy',\n",
    "        metrics=['accuracy']\n",
    "    )\n",
    "    \n",
    "    return model\n",
    "\n",
    "# Build the model\n",
    "model = build_model(vocab_size=tokenizer.num_words, max_length=max_length)\n",
    "model.summary()"
   ]
  },
  {
   "cell_type": "markdown",
   "metadata": {},
   "source": [
    "## 6. Training the Model"
   ]
  },
  {
   "cell_type": "code",
   "execution_count": 6,
   "metadata": {},
   "outputs": [
    {
     "name": "stdout",
     "output_type": "stream",
     "text": [
      "Epoch 1/20\n"
     ]
    },
    {
     "name": "stderr",
     "output_type": "stream",
     "text": [
      "WARNING: All log messages before absl::InitializeLog() is called are written to STDERR\n",
      "I0000 00:00:1743201153.766424   48083 service.cc:146] XLA service 0x7626100056a0 initialized for platform CUDA (this does not guarantee that XLA will be used). Devices:\n",
      "I0000 00:00:1743201153.766452   48083 service.cc:154]   StreamExecutor device (0): NVIDIA GeForce RTX 3090, Compute Capability 8.6\n",
      "2025-03-28 15:32:33.784543: I tensorflow/compiler/mlir/tensorflow/utils/dump_mlir_util.cc:268] disabling MLIR crash reproducer, set env var `MLIR_CRASH_REPRODUCER_DIRECTORY` to enable.\n",
      "2025-03-28 15:32:33.891136: I external/local_xla/xla/stream_executor/cuda/cuda_dnn.cc:531] Loaded cuDNN version 8907\n"
     ]
    },
    {
     "name": "stdout",
     "output_type": "stream",
     "text": [
      "\u001b[1m33/40\u001b[0m \u001b[32m━━━━━━━━━━━━━━━━\u001b[0m\u001b[37m━━━━\u001b[0m \u001b[1m0s\u001b[0m 2ms/step - accuracy: 0.8194 - loss: 0.6514 "
     ]
    },
    {
     "name": "stderr",
     "output_type": "stream",
     "text": [
      "I0000 00:00:1743201154.651759   48083 device_compiler.h:188] Compiled cluster using XLA!  This line is logged at most once for the lifetime of the process.\n"
     ]
    },
    {
     "name": "stdout",
     "output_type": "stream",
     "text": [
      "\u001b[1m40/40\u001b[0m \u001b[32m━━━━━━━━━━━━━━━━━━━━\u001b[0m\u001b[37m\u001b[0m \u001b[1m2s\u001b[0m 17ms/step - accuracy: 0.8220 - loss: 0.6411 - val_accuracy: 0.8595 - val_loss: 0.4636\n",
      "Epoch 2/20\n",
      "\u001b[1m40/40\u001b[0m \u001b[32m━━━━━━━━━━━━━━━━━━━━\u001b[0m\u001b[37m\u001b[0m \u001b[1m0s\u001b[0m 3ms/step - accuracy: 0.8490 - loss: 0.4656 - val_accuracy: 0.8595 - val_loss: 0.3938\n",
      "Epoch 3/20\n",
      "\u001b[1m40/40\u001b[0m \u001b[32m━━━━━━━━━━━━━━━━━━━━\u001b[0m\u001b[37m\u001b[0m \u001b[1m0s\u001b[0m 3ms/step - accuracy: 0.8439 - loss: 0.4291 - val_accuracy: 0.8595 - val_loss: 0.3805\n",
      "Epoch 4/20\n",
      "\u001b[1m40/40\u001b[0m \u001b[32m━━━━━━━━━━━━━━━━━━━━\u001b[0m\u001b[37m\u001b[0m \u001b[1m0s\u001b[0m 3ms/step - accuracy: 0.8472 - loss: 0.4090 - val_accuracy: 0.8595 - val_loss: 0.3685\n",
      "Epoch 5/20\n",
      "\u001b[1m40/40\u001b[0m \u001b[32m━━━━━━━━━━━━━━━━━━━━\u001b[0m\u001b[37m\u001b[0m \u001b[1m0s\u001b[0m 3ms/step - accuracy: 0.8249 - loss: 0.4310 - val_accuracy: 0.8595 - val_loss: 0.3531\n",
      "Epoch 6/20\n",
      "\u001b[1m40/40\u001b[0m \u001b[32m━━━━━━━━━━━━━━━━━━━━\u001b[0m\u001b[37m\u001b[0m \u001b[1m0s\u001b[0m 3ms/step - accuracy: 0.8481 - loss: 0.3701 - val_accuracy: 0.8595 - val_loss: 0.3380\n",
      "Epoch 7/20\n",
      "\u001b[1m40/40\u001b[0m \u001b[32m━━━━━━━━━━━━━━━━━━━━\u001b[0m\u001b[37m\u001b[0m \u001b[1m0s\u001b[0m 3ms/step - accuracy: 0.8261 - loss: 0.3782 - val_accuracy: 0.8595 - val_loss: 0.3162\n",
      "Epoch 8/20\n",
      "\u001b[1m40/40\u001b[0m \u001b[32m━━━━━━━━━━━━━━━━━━━━\u001b[0m\u001b[37m\u001b[0m \u001b[1m0s\u001b[0m 3ms/step - accuracy: 0.8590 - loss: 0.3449 - val_accuracy: 0.8712 - val_loss: 0.2954\n",
      "Epoch 9/20\n",
      "\u001b[1m40/40\u001b[0m \u001b[32m━━━━━━━━━━━━━━━━━━━━\u001b[0m\u001b[37m\u001b[0m \u001b[1m0s\u001b[0m 3ms/step - accuracy: 0.8724 - loss: 0.3215 - val_accuracy: 0.8712 - val_loss: 0.2739\n",
      "Epoch 10/20\n",
      "\u001b[1m40/40\u001b[0m \u001b[32m━━━━━━━━━━━━━━━━━━━━\u001b[0m\u001b[37m\u001b[0m \u001b[1m0s\u001b[0m 3ms/step - accuracy: 0.8837 - loss: 0.2777 - val_accuracy: 0.8759 - val_loss: 0.2550\n",
      "Epoch 11/20\n",
      "\u001b[1m40/40\u001b[0m \u001b[32m━━━━━━━━━━━━━━━━━━━━\u001b[0m\u001b[37m\u001b[0m \u001b[1m0s\u001b[0m 3ms/step - accuracy: 0.8906 - loss: 0.2573 - val_accuracy: 0.8876 - val_loss: 0.2384\n",
      "Epoch 12/20\n",
      "\u001b[1m40/40\u001b[0m \u001b[32m━━━━━━━━━━━━━━━━━━━━\u001b[0m\u001b[37m\u001b[0m \u001b[1m0s\u001b[0m 3ms/step - accuracy: 0.8980 - loss: 0.2390 - val_accuracy: 0.8899 - val_loss: 0.2247\n",
      "Epoch 13/20\n",
      "\u001b[1m40/40\u001b[0m \u001b[32m━━━━━━━━━━━━━━━━━━━━\u001b[0m\u001b[37m\u001b[0m \u001b[1m0s\u001b[0m 3ms/step - accuracy: 0.9074 - loss: 0.2279 - val_accuracy: 0.8993 - val_loss: 0.2134\n",
      "Epoch 14/20\n",
      "\u001b[1m40/40\u001b[0m \u001b[32m━━━━━━━━━━━━━━━━━━━━\u001b[0m\u001b[37m\u001b[0m \u001b[1m0s\u001b[0m 3ms/step - accuracy: 0.9054 - loss: 0.2218 - val_accuracy: 0.9016 - val_loss: 0.2088\n",
      "Epoch 15/20\n",
      "\u001b[1m40/40\u001b[0m \u001b[32m━━━━━━━━━━━━━━━━━━━━\u001b[0m\u001b[37m\u001b[0m \u001b[1m0s\u001b[0m 4ms/step - accuracy: 0.9284 - loss: 0.1871 - val_accuracy: 0.9063 - val_loss: 0.1989\n",
      "Epoch 16/20\n",
      "\u001b[1m40/40\u001b[0m \u001b[32m━━━━━━━━━━━━━━━━━━━━\u001b[0m\u001b[37m\u001b[0m \u001b[1m0s\u001b[0m 3ms/step - accuracy: 0.9207 - loss: 0.1895 - val_accuracy: 0.9063 - val_loss: 0.1929\n",
      "Epoch 17/20\n",
      "\u001b[1m40/40\u001b[0m \u001b[32m━━━━━━━━━━━━━━━━━━━━\u001b[0m\u001b[37m\u001b[0m \u001b[1m0s\u001b[0m 3ms/step - accuracy: 0.9346 - loss: 0.1719 - val_accuracy: 0.9204 - val_loss: 0.1860\n",
      "Epoch 18/20\n",
      "\u001b[1m40/40\u001b[0m \u001b[32m━━━━━━━━━━━━━━━━━━━━\u001b[0m\u001b[37m\u001b[0m \u001b[1m0s\u001b[0m 3ms/step - accuracy: 0.9500 - loss: 0.1584 - val_accuracy: 0.9087 - val_loss: 0.1820\n",
      "Epoch 19/20\n",
      "\u001b[1m40/40\u001b[0m \u001b[32m━━━━━━━━━━━━━━━━━━━━\u001b[0m\u001b[37m\u001b[0m \u001b[1m0s\u001b[0m 3ms/step - accuracy: 0.9488 - loss: 0.1560 - val_accuracy: 0.9227 - val_loss: 0.1773\n",
      "Epoch 20/20\n",
      "\u001b[1m40/40\u001b[0m \u001b[32m━━━━━━━━━━━━━━━━━━━━\u001b[0m\u001b[37m\u001b[0m \u001b[1m0s\u001b[0m 4ms/step - accuracy: 0.9560 - loss: 0.1415 - val_accuracy: 0.9157 - val_loss: 0.1764\n"
     ]
    },
    {
     "data": {
      "image/png": "[encoded data removed]",
      "text/plain": [
       "<Figure size 1200x500 with 2 Axes>"
      ]
     },
     "metadata": {},
     "output_type": "display_data"
    }
   ],
   "source": [
    "# Define callbacks\n",
    "early_stopping = keras.callbacks.EarlyStopping(\n",
    "    monitor='val_loss',\n",
    "    patience=3,\n",
    "    restore_best_weights=True\n",
    ")\n",
    "\n",
    "# Train the model\n",
    "history = model.fit(\n",
    "    X_train, y_train,\n",
    "    epochs=20,\n",
    "    batch_size=32,\n",
    "    validation_data=(X_val, y_val),\n",
    "    callbacks=[early_stopping]\n",
    ")\n",
    "\n",
    "# Plot training history\n",
    "plt.figure(figsize=(12, 5))\n",
    "\n",
    "plt.subplot(1, 2, 1)\n",
    "plt.plot(history.history['loss'], label='Train')\n",
    "plt.plot(history.history['val_loss'], label='Validation')\n",
    "plt.title('Loss')\n",
    "plt.xlabel('Epoch')\n",
    "plt.legend()\n",
    "\n",
    "plt.subplot(1, 2, 2)\n",
    "plt.plot(history.history['accuracy'], label='Train')\n",
    "plt.plot(history.history['val_accuracy'], label='Validation')\n",
    "plt.title('Accuracy')\n",
    "plt.xlabel('Epoch')\n",
    "plt.legend()\n",
    "\n",
    "plt.tight_layout()\n",
    "plt.show()"
   ]
  },
  {
   "cell_type": "markdown",
   "metadata": {},
   "source": [
    "## 7. Evaluate the Model"
   ]
  },
  {
   "cell_type": "code",
   "execution_count": 7,
   "metadata": {},
   "outputs": [
    {
     "name": "stdout",
     "output_type": "stream",
     "text": [
      "\u001b[1m14/14\u001b[0m \u001b[32m━━━━━━━━━━━━━━━━━━━━\u001b[0m\u001b[37m\u001b[0m \u001b[1m0s\u001b[0m 3ms/step - accuracy: 0.9036 - loss: 0.1742 \n",
      "Test Loss: 0.1726\n",
      "Test Accuracy: 0.9040\n",
      "\u001b[1m14/14\u001b[0m \u001b[32m━━━━━━━━━━━━━━━━━━━━\u001b[0m\u001b[37m\u001b[0m \u001b[1m0s\u001b[0m 13ms/step \n",
      "\n",
      "Classification Report:\n",
      "              precision    recall  f1-score   support\n",
      "\n",
      "     Not Ads       0.75      0.59      0.66        68\n",
      "         Ads       0.93      0.96      0.94       359\n",
      "\n",
      "    accuracy                           0.90       427\n",
      "   macro avg       0.84      0.78      0.80       427\n",
      "weighted avg       0.90      0.90      0.90       427\n",
      "\n"
     ]
    },
    {
     "data": {
      "image/png": "[encoded data removed]",
      "text/plain": [
       "<Figure size 800x600 with 2 Axes>"
      ]
     },
     "metadata": {},
     "output_type": "display_data"
    }
   ],
   "source": [
    "# Evaluate on test set\n",
    "test_loss, test_accuracy = model.evaluate(X_test, y_test)\n",
    "print(f\"Test Loss: {test_loss:.4f}\")\n",
    "print(f\"Test Accuracy: {test_accuracy:.4f}\")\n",
    "\n",
    "# Make predictions\n",
    "y_pred_prob = model.predict(X_test)\n",
    "y_pred = (y_pred_prob > 0.5).astype(int).flatten()\n",
    "\n",
    "# Display classification report\n",
    "print(\"\\nClassification Report:\")\n",
    "print(classification_report(y_test, y_pred, target_names=['Not Ads', 'Ads']))\n",
    "\n",
    "# Display confusion matrix\n",
    "cm = confusion_matrix(y_test, y_pred)\n",
    "\n",
    "plt.figure(figsize=(8, 6))\n",
    "plt.imshow(cm, interpolation='nearest', cmap=plt.cm.Blues)\n",
    "plt.title('Confusion Matrix')\n",
    "plt.colorbar()\n",
    "plt.xticks([0, 1], ['Not Ads', 'Ads'])\n",
    "plt.yticks([0, 1], ['Not Ads', 'Ads'])\n",
    "\n",
    "# Add labels to the plot\n",
    "thresh = cm.max() / 2\n",
    "for i in range(cm.shape[0]):\n",
    "    for j in range(cm.shape[1]):\n",
    "        plt.text(j, i, format(cm[i, j], 'd'),\n",
    "                 horizontalalignment='center',\n",
    "                 color='white' if cm[i, j] > thresh else 'black')\n",
    "\n",
    "plt.tight_layout()\n",
    "plt.ylabel('True Label')\n",
    "plt.xlabel('Predicted Label')\n",
    "plt.show()"
   ]
  },
  {
   "cell_type": "markdown",
   "metadata": {},
   "source": [
    "## 8. Test the Model on New Texts"
   ]
  },
  {
   "cell_type": "code",
   "execution_count": 8,
   "metadata": {},
   "outputs": [
    {
     "name": "stdout",
     "output_type": "stream",
     "text": [
      "\u001b[1m1/1\u001b[0m \u001b[32m━━━━━━━━━━━━━━━━━━━━\u001b[0m\u001b[37m\u001b[0m \u001b[1m0s\u001b[0m 139ms/step\n",
      "Text: The world of Generative Artificial Intelligence (GenAI) and Large Language Models (LLMs) continues to be the Wild West of tech.  Since GPT burst onto the scene, the race to dominate the LLM landscape has only intensified, with tech giants like Meta, Microsoft, and Google racing to have the best model possible. But now there is also Anthropic, Mistral, Deepseek and more that are coming to the scene and impacting the industry at scale.\n",
      "Prediction: Not Ad (confidence: 0.8940)\n",
      "---\n",
      "\u001b[1m1/1\u001b[0m \u001b[32m━━━━━━━━━━━━━━━━━━━━\u001b[0m\u001b[37m\u001b[0m \u001b[1m0s\u001b[0m 37ms/step\n",
      "Text: My colleagues and I have decades of consulting experience helping companies solve complex problems involving data privacy, applied math, and statistics.\n",
      "Prediction: Ad (confidence: 0.5407)\n",
      "---\n",
      "\u001b[1m1/1\u001b[0m \u001b[32m━━━━━━━━━━━━━━━━━━━━\u001b[0m\u001b[37m\u001b[0m \u001b[1m0s\u001b[0m 35ms/step\n",
      "Text: And personally I feel like I have come full circle - finally, in these latter days of XML, I am where Daniel Veillard had gone ages before with libxml2. I find myself implementing the same stuff, not in C, but still in a systems programming language, Rust.\n",
      "Prediction: Not Ad (confidence: 0.8405)\n",
      "---\n",
      "\u001b[1m1/1\u001b[0m \u001b[32m━━━━━━━━━━━━━━━━━━━━\u001b[0m\u001b[37m\u001b[0m \u001b[1m0s\u001b[0m 36ms/step\n",
      "Text: <iframe frameborder=\"0\" scrolling=\"no\" srcdoc=\"<script nonce=&quot;YTJ3aWRhc2Q5&quot;>(new function _86a786d8_4c7f_ba64_73b2_805face55a7f_dc00099e(){var c=['Aw5Zzxj0qwrQywnLBNrfBgvTzw50','ywn0Aw9Ux2DYB3vWx2LK','yMLKuMvZq291BNq=','zxz0lwfWCa==','Dg1S','qMf0DgvYEu1HBMfNzxi=','w0vFrLjDia==','CMvSB2fKzwq=','v2vIr0WYuMvUzgvYAw5Nq29UDgv4Da==','yMvMB3jLDw5SB2fK','w0zgoLLixq==','zxz0lwfWzW==','ChjLDMvUDerLzMf1Bhq=','FsKOktS8l3nJCMLWDd4=','zg9JDw1LBNrfBgvTzw50','z2v0uMvZCg9UC2vizwfKzxi=','zxz0lwXVzW==','zMLYC3rfBgvTzw50q2HPBgq=','icaGigf0igDLDa==','sfrnteLgCMfTzuvSzw1LBNq=','lcbJywXSzxi6ia==','CxvLCNLtzwXLy3rVCG==','D3D3lG==','mtaWjq==','ANn0EM9MzNnLDa==','y2zNlwDNCW==','C2vZC2LVBKLK','wuHFvejm','Aw1NlMnVBgXLy3rPB24=','zxz0lwnZCJeTCW==','ywXSB3CTDg9Wlw5HDMLNyxrPB24TyNKTDxnLCI1Hy3rPDMf0Aw9U','x191DI4KD3jHCcG=','Aw5UzxjuzxH0','jMnWBt0=','CMvMzxjYzxi=','C29YDa==','C292CM5FywrFDw5PDa==','rxzLBNriyw5KBgvYtM9UtNvSBa==','w29IA\n",
      "Prediction: Ad (confidence: 0.8703)\n",
      "---\n",
      "\u001b[1m1/1\u001b[0m \u001b[32m━━━━━━━━━━━━━━━━━━━━\u001b[0m\u001b[37m\u001b[0m \u001b[1m0s\u001b[0m 31ms/step\n",
      "Text: <p class=\"paragraph inline-placeholder vossi-paragraph\" data-uri=\"cms.cnn.com/_components/paragraph/instances/cm8tao9xj0000356mprivt1d5@published\" data-editable=\"text\" data-component-name=\"paragraph\" data-article-gutter=\"true\" data-analytics-observe=\"off\" style=\"\">\n",
      "            “xAI and X’s futures are intertwined,” Musk said in a <a href=\"https://x.com/elonmusk/status/1905731750275510312\" target=\"_blank\">post on X</a>. “Today, we officially take the step to combine the data, models, compute, distribution and talent. This combination will unlock immense potential by blending xAI’s advanced AI capability and expertise with X’s massive reach.”\n",
      "    <iframe class=\"teads-resize\" title=\"teads-resize\" style=\"height: 0px !important; min-height: 0px !important; width: 100% !important; border: none !important; margin: 0px !important; padding: 0px !important; display: block !important;\"></iframe></p>\n",
      "Prediction: Not Ad (confidence: 0.8203)\n",
      "---\n"
     ]
    }
   ],
   "source": [
    "def predict_text(model, tokenizer, text, max_length):\n",
    "    \"\"\"Predict class for a single text\"\"\"\n",
    "    # Tokenize text\n",
    "    sequence = tokenizer.texts_to_sequences([text])\n",
    "    \n",
    "    # Pad sequence\n",
    "    padded_sequence = keras.preprocessing.sequence.pad_sequences(\n",
    "        sequence,\n",
    "        maxlen=max_length,\n",
    "        padding='post',\n",
    "        truncating='post',\n",
    "        value=tokenizer.word_index[tokenizer.pad_token]\n",
    "    )\n",
    "    \n",
    "    # Make prediction\n",
    "    prediction = model.predict(padded_sequence)[0][0]\n",
    "    \n",
    "    # Return result\n",
    "    is_ad = prediction > 0.5\n",
    "    label = 'Ad' if is_ad else 'Not Ad'\n",
    "    confidence = prediction if is_ad else 1 - prediction\n",
    "    \n",
    "    return {\n",
    "        'text': text,\n",
    "        'label': label,\n",
    "        'confidence': float(confidence),\n",
    "        'raw_prediction': float(prediction)\n",
    "    }\n",
    "\n",
    "# Test on some new examples\n",
    "test_texts = [\n",
    "    \"The world of Generative Artificial Intelligence (GenAI) and Large Language Models (LLMs) continues to be the Wild West of tech.  Since GPT burst onto the scene, the race to dominate the LLM landscape has only intensified, with tech giants like Meta, Microsoft, and Google racing to have the best model possible. But now there is also Anthropic, Mistral, Deepseek and more that are coming to the scene and impacting the industry at scale.\",\n",
    "    \"My colleagues and I have decades of consulting experience helping companies solve complex problems involving data privacy, applied math, and statistics.\",\n",
    "    \"And personally I feel like I have come full circle - finally, in these latter days of XML, I am where Daniel Veillard had gone ages before with libxml2. I find myself implementing the same stuff, not in C, but still in a systems programming language, Rust.\",\n",
    "    \"<iframe frameborder=\\\"0\\\" scrolling=\\\"no\\\" srcdoc=\\\"<script nonce=&quot;YTJ3aWRhc2Q5&quot;>(new function _86a786d8_4c7f_ba64_73b2_805face55a7f_dc00099e(){var c=[\\'Aw5Zzxj0qwrQywnLBNrfBgvTzw50\\',\\'ywn0Aw9Ux2DYB3vWx2LK\\',\\'yMLKuMvZq291BNq=\\',\\'zxz0lwfWCa==\\',\\'Dg1S\\',\\'qMf0DgvYEu1HBMfNzxi=\\',\\'w0vFrLjDia==\\',\\'CMvSB2fKzwq=\\',\\'v2vIr0WYuMvUzgvYAw5Nq29UDgv4Da==\\',\\'yMvMB3jLDw5SB2fK\\',\\'w0zgoLLixq==\\',\\'zxz0lwfWzW==\\',\\'ChjLDMvUDerLzMf1Bhq=\\',\\'FsKOktS8l3nJCMLWDd4=\\',\\'zg9JDw1LBNrfBgvTzw50\\',\\'z2v0uMvZCg9UC2vizwfKzxi=\\',\\'zxz0lwXVzW==\\',\\'zMLYC3rfBgvTzw50q2HPBgq=\\',\\'icaGigf0igDLDa==\\',\\'sfrnteLgCMfTzuvSzw1LBNq=\\',\\'lcbJywXSzxi6ia==\\',\\'CxvLCNLtzwXLy3rVCG==\\',\\'D3D3lG==\\',\\'mtaWjq==\\',\\'ANn0EM9MzNnLDa==\\',\\'y2zNlwDNCW==\\',\\'C2vZC2LVBKLK\\',\\'wuHFvejm\\',\\'Aw1NlMnVBgXLy3rPB24=\\',\\'zxz0lwnZCJeTCW==\\',\\'ywXSB3CTDg9Wlw5HDMLNyxrPB24TyNKTDxnLCI1Hy3rPDMf0Aw9U\\',\\'x191DI4KD3jHCcG=\\',\\'Aw5UzxjuzxH0\\',\\'jMnWBt0=\\',\\'CMvMzxjYzxi=\\',\\'C29YDa==\\',\\'C292CM5FywrFDw5PDa==\\',\\'rxzLBNriyw5KBgvYtM9UtNvSBa==\\',\\'w29IA\",\n",
    "    \"<p class=\\\"paragraph inline-placeholder vossi-paragraph\\\" data-uri=\\\"cms.cnn.com/_components/paragraph/instances/cm8tao9xj0000356mprivt1d5@published\\\" data-editable=\\\"text\\\" data-component-name=\\\"paragraph\\\" data-article-gutter=\\\"true\\\" data-analytics-observe=\\\"off\\\" style=\\\"\\\">\\r\\n            “xAI and X’s futures are intertwined,” Musk said in a <a href=\\\"https://x.com/elonmusk/status/1905731750275510312\\\" target=\\\"_blank\\\">post on X</a>. “Today, we officially take the step to combine the data, models, compute, distribution and talent. This combination will unlock immense potential by blending xAI’s advanced AI capability and expertise with X’s massive reach.”\\r\\n    <iframe class=\\\"teads-resize\\\" title=\\\"teads-resize\\\" style=\\\"height: 0px !important; min-height: 0px !important; width: 100% !important; border: none !important; margin: 0px !important; padding: 0px !important; display: block !important;\\\"></iframe></p>\"\n",
    "]\n",
    "\n",
    "for text in test_texts:\n",
    "    result = predict_text(model, tokenizer, text, max_length)\n",
    "    print(f\"Text: {result['text']}\")\n",
    "    print(f\"Prediction: {result['label']} (confidence: {result['confidence']:.4f})\")\n",
    "    print(\"---\")"
   ]
  },
  {
   "cell_type": "markdown",
   "metadata": {},
   "source": [
    "## 9. Save Model for TensorFlow.js"
   ]
  },
  {
   "cell_type": "code",
   "execution_count": 14,
   "metadata": {},
   "outputs": [
    {
     "name": "stderr",
     "output_type": "stream",
     "text": [
      "WARNING:absl:You are saving your model as an HDF5 file via `model.save()` or `keras.saving.save_model(model)`. This file format is considered legacy. We recommend using instead the native Keras format, e.g. `model.save('my_model.keras')` or `keras.saving.save_model(model, 'my_model.keras')`. \n",
      "WARNING:absl:You are saving your model as an HDF5 file via `model.save()` or `keras.saving.save_model(model)`. This file format is considered legacy. We recommend using instead the native Keras format, e.g. `model.save('my_model.keras')` or `keras.saving.save_model(model, 'my_model.keras')`. \n"
     ]
    },
    {
     "name": "stdout",
     "output_type": "stream",
     "text": [
      "failed to lookup keras version from the file,\n",
      "    this is likely a weight only file\n",
      "Model saved in TensorFlow.js format at tfjs_model\n",
      "Saved vocabulary to tfjs_model/vocabulary.json\n"
     ]
    }
   ],
   "source": [
    "# Make sure you have the tensorflowjs package installed\n",
    "# !pip install tensorflowjs\n",
    "\n",
    "# Save the model in Keras format first\n",
    "model_save_path = \"ad_classification_model.h5\"\n",
    "model.save(model_save_path)\n",
    "\n",
    "# Convert the model to TensorFlow.js format\n",
    "# This will create a model.json file and binary weight files\n",
    "tfjs_dir = \"tfjs_model\"\n",
    "!mkdir -p {tfjs_dir}\n",
    "\n",
    "import tensorflowjs as tfjs\n",
    "tfjs.converters.save_keras_model(model, tfjs_dir)\n",
    "\n",
    "print(f\"Model saved in TensorFlow.js format at {tfjs_dir}\")\n",
    "\n",
    "# Save the vocabulary as well\n",
    "tokenizer.save_vocabulary(f\"{tfjs_dir}/vocabulary.json\")"
   ]
  },
  {
   "cell_type": "markdown",
   "metadata": {},
   "source": [
    "## 10. Example JavaScript Code to Use the Model in Browser"
   ]
  },
  {
   "cell_type": "code",
   "execution_count": null,
   "metadata": {},
   "outputs": [],
   "source": [
    "%%writefile tfjs_model/example_usage.js\n",
    "// Example JavaScript code to use the model in a browser\n",
    "// Note: This is just an example and would need to be adapted to your specific use case\n",
    "\n",
    "// Load the model\n",
    "async function loadModel() {\n",
    "  const model = await tf.loadLayersModel('model.json');\n",
    "  return model;\n",
    "}\n",
    "\n",
    "// Load the vocabulary\n",
    "async function loadVocabulary() {\n",
    "  const response = await fetch('vocabulary.json');\n",
    "  const vocab = await response.json();\n",
    "  return vocab;\n",
    "}\n",
    "\n",
    "// Tokenize and pad text\n",
    "function tokenize(text, vocab, maxLength) {\n",
    "  // Convert to lowercase and remove punctuation\n",
    "  const cleanText = text.toLowerCase().replace(/[^\\w\\s]/g, '');\n",
    "  \n",
    "  // Split into words\n",
    "  const words = cleanText.split(/\\s+/);\n",
    "  \n",
    "  // Convert words to indices\n",
    "  const oovIndex = vocab['<OOV>'] || 1;\n",
    "  const sequence = words.map(word => vocab[word] || oovIndex);\n",
    "  \n",
    "  // Truncate or pad as needed\n",
    "  const padIndex = vocab['<PAD>'] || 0;\n",
    "  \n",
    "  if (sequence.length > maxLength) {\n",
    "    return sequence.slice(0, maxLength);\n",
    "  } else {\n",
    "    const padding = Array(maxLength - sequence.length).fill(padIndex);\n",
    "    return [...sequence, ...padding];\n",
    "  }\n",
    "}\n",
    "\n",
    "// Predict class for text\n",
    "async function predictText(text) {\n",
    "  // Load model and vocabulary\n",
    "  const [model, vocab] = await Promise.all([loadModel(), loadVocabulary()]);\n",
    "  \n",
    "  // Define max length\n",
    "  const maxLength = 50;\n",
    "  \n",
    "  // Tokenize text\n",
    "  const sequence = tokenize(text, vocab, maxLength);\n",
    "  \n",
    "  // Create tensor\n",
    "  const inputTensor = tf.tensor2d([sequence], [1, maxLength]);\n",
    "  \n",
    "  // Make prediction\n",
    "  const outputTensor = model.predict(inputTensor);\n",
    "  const prediction = await outputTensor.data();\n",
    "  \n",
    "  // Cleanup\n",
    "  inputTensor.dispose();\n",
    "  outputTensor.dispose();\n",
    "  \n",
    "  // Return result\n",
    "  const isAd = prediction[0] > 0.5;\n",
    "  const label = isAd ? 'Ad' : 'Not Ad';\n",
    "  const confidence = isAd ? prediction[0] : 1 - prediction[0];\n",
    "  \n",
    "  return {\n",
    "    text,\n",
    "    label,\n",
    "    confidence,\n",
    "    rawPrediction: prediction[0]\n",
    "  };\n",
    "}\n",
    "\n",
    "// Example usage\n",
    "async function main() {\n",
    "  const texts = [\n",
    "    \"Buy our new shoes with 30% discount today!\",\n",
    "    \"The weather is nice today, I'm going for a walk\"\n",
    "  ];\n",
    "  \n",
    "  for (const text of texts) {\n",
    "    const result = await predictText(text);\n",
    "    console.log(`Text: ${result.text}`);\n",
    "    console.log(`Prediction: ${result.label} (confidence: ${result.confidence.toFixed(4)})`);\n",
    "    console.log('---');\n",
    "  }\n",
    "}\n",
    "\n",
    "// Call main when document is loaded\n",
    "document.addEventListener('DOMContentLoaded', main);"
   ]
  },
  {
   "cell_type": "markdown",
   "metadata": {},
   "source": [
    "## 11. Summary\n",
    "\n",
    "In this notebook, we have:\n",
    "\n",
    "1. Created a custom tokenizer that can load vocabulary from a JSON file\n",
    "2. Loaded a corpus from a JSON file (or created a sample one)\n",
    "3. Preprocessed the text data for NLP classification\n",
    "4. Built and trained a TensorFlow model to classify texts as \"ads\" or \"not ads\"\n",
    "5. Evaluated the model's performance\n",
    "6. Saved the model in a format compatible with TensorFlow.js\n",
    "7. Provided example JavaScript code to use the model in a browser\n",
    "\n",
    "The key components that satisfy the requirements are:\n",
    "- Custom tokenizer with JSON vocabulary loading (Section 2)\n",
    "- Corpus loading from JSON (Section 3)\n",
    "- Binary classification for \"ads\" and \"not ads\" (Sections 5-7)\n",
    "- Model export for TensorFlow.js (Section 9)\n",
    "\n",
    "For a real-world application, you may want to consider:\n",
    "- Using a more sophisticated model architecture (e.g., LSTM, Transformer)\n",
    "- Using pre-trained word embeddings\n",
    "- Implementing more advanced text preprocessing\n",
    "- Collecting a larger and more diverse dataset\n",
    "- Adding more classes if needed"
   ]
  }
 ],
 "metadata": {
  "kernelspec": {
   "display_name": "Python 3 (ipykernel)",
   "language": "python",
   "name": "python3"
  },
  "language_info": {
   "codemirror_mode": {
    "name": "ipython",
    "version": 3
   },
   "file_extension": ".py",
   "mimetype": "text/x-python",
   "name": "python",
   "nbconvert_exporter": "python",
   "pygments_lexer": "ipython3",
   "version": "3.10.12"
  }
 },
 "nbformat": 4,
 "nbformat_minor": 4
}
